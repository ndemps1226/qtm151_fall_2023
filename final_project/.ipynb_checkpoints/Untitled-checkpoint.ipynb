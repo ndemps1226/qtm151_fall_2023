{
 "cells": [
  {
   "cell_type": "markdown",
   "id": "e4e8c62e-f410-4879-a457-3fbe67f9ee4e",
   "metadata": {},
   "source": [
    "# QTM 151 Final Project \n",
    "## Group Members: Tsebaot Shewarega, Nyla Demps, Macarah Morgan & El Yirdaw"
   ]
  },
  {
   "cell_type": "code",
   "execution_count": 1,
   "id": "3ba46151-642f-411d-a20a-77a84551a8d1",
   "metadata": {},
   "outputs": [],
   "source": [
    "import numpy as np \n",
    "import matplotlib.pyplot as plt\n",
    "import pandas as pd"
   ]
  },
  {
   "cell_type": "code",
   "execution_count": null,
   "id": "1882dce8-1b52-495f-923d-e7674d08080a",
   "metadata": {},
   "outputs": [],
   "source": []
  }
 ],
 "metadata": {
  "kernelspec": {
   "display_name": "Python 3 (ipykernel)",
   "language": "python",
   "name": "python3"
  },
  "language_info": {
   "codemirror_mode": {
    "name": "ipython",
    "version": 3
   },
   "file_extension": ".py",
   "mimetype": "text/x-python",
   "name": "python",
   "nbconvert_exporter": "python",
   "pygments_lexer": "ipython3",
   "version": "3.9.13"
  }
 },
 "nbformat": 4,
 "nbformat_minor": 5
}
